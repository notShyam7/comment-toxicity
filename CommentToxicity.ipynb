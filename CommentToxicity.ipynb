{
  "cells": [
    {
      "cell_type": "markdown",
      "metadata": {
        "id": "view-in-github",
        "colab_type": "text"
      },
      "source": [
        "<a href=\"https://colab.research.google.com/github/notShyam7/comment_toxicity/blob/main/CommentToxicity.ipynb\" target=\"_parent\"><img src=\"https://colab.research.google.com/assets/colab-badge.svg\" alt=\"Open In Colab\"/></a>"
      ]
    },
    {
      "cell_type": "code",
      "execution_count": 1,
      "metadata": {
        "id": "3RizqJQDSr_e"
      },
      "outputs": [],
      "source": [
        "import tensorflow as tf\n",
        "import pandas as pd\n",
        "import numpy as np"
      ]
    },
    {
      "cell_type": "code",
      "execution_count": 2,
      "metadata": {
        "colab": {
          "base_uri": "https://localhost:8080/"
        },
        "id": "ODGxhHnrTnQu",
        "outputId": "fe43f970-3771-47d9-b310-8813ee3d322d"
      },
      "outputs": [
        {
          "output_type": "stream",
          "name": "stdout",
          "text": [
            "Mounted at /content/gdrive/\n"
          ]
        }
      ],
      "source": [
        "# colab mount\n",
        "from google.colab import drive\n",
        "drive.mount('/content/gdrive/', force_remount=True)"
      ]
    },
    {
      "cell_type": "code",
      "execution_count": 3,
      "metadata": {
        "id": "kiLjPytTUgFP"
      },
      "outputs": [],
      "source": [
        "df_test = pd.read_csv('/content/gdrive/MyDrive/Comment Toxicity/test.csv')\n",
        "df_test_labels = pd.read_csv('/content/gdrive/MyDrive/Comment Toxicity/test_labels.csv')\n",
        "df_train = pd.read_csv('/content/gdrive/MyDrive/Comment Toxicity/train.csv')"
      ]
    },
    {
      "cell_type": "code",
      "execution_count": 4,
      "metadata": {
        "colab": {
          "base_uri": "https://localhost:8080/",
          "height": 293
        },
        "id": "rbH1LuGcVTMp",
        "outputId": "a3a53912-b069-4ca8-9a97-6858f571421a"
      },
      "outputs": [
        {
          "output_type": "execute_result",
          "data": {
            "text/plain": [
              "                 id                                       comment_text  toxic  \\\n",
              "0  0000997932d777bf  Explanation\\nWhy the edits made under my usern...      0   \n",
              "1  000103f0d9cfb60f  D'aww! He matches this background colour I'm s...      0   \n",
              "2  000113f07ec002fd  Hey man, I'm really not trying to edit war. It...      0   \n",
              "3  0001b41b1c6bb37e  \"\\nMore\\nI can't make any real suggestions on ...      0   \n",
              "4  0001d958c54c6e35  You, sir, are my hero. Any chance you remember...      0   \n",
              "\n",
              "   severe_toxic  obscene  threat  insult  identity_hate  \n",
              "0             0        0       0       0              0  \n",
              "1             0        0       0       0              0  \n",
              "2             0        0       0       0              0  \n",
              "3             0        0       0       0              0  \n",
              "4             0        0       0       0              0  "
            ],
            "text/html": [
              "\n",
              "  <div id=\"df-056f8584-dca0-450b-b3e4-62eed40d2f1a\" class=\"colab-df-container\">\n",
              "    <div>\n",
              "<style scoped>\n",
              "    .dataframe tbody tr th:only-of-type {\n",
              "        vertical-align: middle;\n",
              "    }\n",
              "\n",
              "    .dataframe tbody tr th {\n",
              "        vertical-align: top;\n",
              "    }\n",
              "\n",
              "    .dataframe thead th {\n",
              "        text-align: right;\n",
              "    }\n",
              "</style>\n",
              "<table border=\"1\" class=\"dataframe\">\n",
              "  <thead>\n",
              "    <tr style=\"text-align: right;\">\n",
              "      <th></th>\n",
              "      <th>id</th>\n",
              "      <th>comment_text</th>\n",
              "      <th>toxic</th>\n",
              "      <th>severe_toxic</th>\n",
              "      <th>obscene</th>\n",
              "      <th>threat</th>\n",
              "      <th>insult</th>\n",
              "      <th>identity_hate</th>\n",
              "    </tr>\n",
              "  </thead>\n",
              "  <tbody>\n",
              "    <tr>\n",
              "      <th>0</th>\n",
              "      <td>0000997932d777bf</td>\n",
              "      <td>Explanation\\nWhy the edits made under my usern...</td>\n",
              "      <td>0</td>\n",
              "      <td>0</td>\n",
              "      <td>0</td>\n",
              "      <td>0</td>\n",
              "      <td>0</td>\n",
              "      <td>0</td>\n",
              "    </tr>\n",
              "    <tr>\n",
              "      <th>1</th>\n",
              "      <td>000103f0d9cfb60f</td>\n",
              "      <td>D'aww! He matches this background colour I'm s...</td>\n",
              "      <td>0</td>\n",
              "      <td>0</td>\n",
              "      <td>0</td>\n",
              "      <td>0</td>\n",
              "      <td>0</td>\n",
              "      <td>0</td>\n",
              "    </tr>\n",
              "    <tr>\n",
              "      <th>2</th>\n",
              "      <td>000113f07ec002fd</td>\n",
              "      <td>Hey man, I'm really not trying to edit war. It...</td>\n",
              "      <td>0</td>\n",
              "      <td>0</td>\n",
              "      <td>0</td>\n",
              "      <td>0</td>\n",
              "      <td>0</td>\n",
              "      <td>0</td>\n",
              "    </tr>\n",
              "    <tr>\n",
              "      <th>3</th>\n",
              "      <td>0001b41b1c6bb37e</td>\n",
              "      <td>\"\\nMore\\nI can't make any real suggestions on ...</td>\n",
              "      <td>0</td>\n",
              "      <td>0</td>\n",
              "      <td>0</td>\n",
              "      <td>0</td>\n",
              "      <td>0</td>\n",
              "      <td>0</td>\n",
              "    </tr>\n",
              "    <tr>\n",
              "      <th>4</th>\n",
              "      <td>0001d958c54c6e35</td>\n",
              "      <td>You, sir, are my hero. Any chance you remember...</td>\n",
              "      <td>0</td>\n",
              "      <td>0</td>\n",
              "      <td>0</td>\n",
              "      <td>0</td>\n",
              "      <td>0</td>\n",
              "      <td>0</td>\n",
              "    </tr>\n",
              "  </tbody>\n",
              "</table>\n",
              "</div>\n",
              "    <div class=\"colab-df-buttons\">\n",
              "\n",
              "  <div class=\"colab-df-container\">\n",
              "    <button class=\"colab-df-convert\" onclick=\"convertToInteractive('df-056f8584-dca0-450b-b3e4-62eed40d2f1a')\"\n",
              "            title=\"Convert this dataframe to an interactive table.\"\n",
              "            style=\"display:none;\">\n",
              "\n",
              "  <svg xmlns=\"http://www.w3.org/2000/svg\" height=\"24px\" viewBox=\"0 -960 960 960\">\n",
              "    <path d=\"M120-120v-720h720v720H120Zm60-500h600v-160H180v160Zm220 220h160v-160H400v160Zm0 220h160v-160H400v160ZM180-400h160v-160H180v160Zm440 0h160v-160H620v160ZM180-180h160v-160H180v160Zm440 0h160v-160H620v160Z\"/>\n",
              "  </svg>\n",
              "    </button>\n",
              "\n",
              "  <style>\n",
              "    .colab-df-container {\n",
              "      display:flex;\n",
              "      gap: 12px;\n",
              "    }\n",
              "\n",
              "    .colab-df-convert {\n",
              "      background-color: #E8F0FE;\n",
              "      border: none;\n",
              "      border-radius: 50%;\n",
              "      cursor: pointer;\n",
              "      display: none;\n",
              "      fill: #1967D2;\n",
              "      height: 32px;\n",
              "      padding: 0 0 0 0;\n",
              "      width: 32px;\n",
              "    }\n",
              "\n",
              "    .colab-df-convert:hover {\n",
              "      background-color: #E2EBFA;\n",
              "      box-shadow: 0px 1px 2px rgba(60, 64, 67, 0.3), 0px 1px 3px 1px rgba(60, 64, 67, 0.15);\n",
              "      fill: #174EA6;\n",
              "    }\n",
              "\n",
              "    .colab-df-buttons div {\n",
              "      margin-bottom: 4px;\n",
              "    }\n",
              "\n",
              "    [theme=dark] .colab-df-convert {\n",
              "      background-color: #3B4455;\n",
              "      fill: #D2E3FC;\n",
              "    }\n",
              "\n",
              "    [theme=dark] .colab-df-convert:hover {\n",
              "      background-color: #434B5C;\n",
              "      box-shadow: 0px 1px 3px 1px rgba(0, 0, 0, 0.15);\n",
              "      filter: drop-shadow(0px 1px 2px rgba(0, 0, 0, 0.3));\n",
              "      fill: #FFFFFF;\n",
              "    }\n",
              "  </style>\n",
              "\n",
              "    <script>\n",
              "      const buttonEl =\n",
              "        document.querySelector('#df-056f8584-dca0-450b-b3e4-62eed40d2f1a button.colab-df-convert');\n",
              "      buttonEl.style.display =\n",
              "        google.colab.kernel.accessAllowed ? 'block' : 'none';\n",
              "\n",
              "      async function convertToInteractive(key) {\n",
              "        const element = document.querySelector('#df-056f8584-dca0-450b-b3e4-62eed40d2f1a');\n",
              "        const dataTable =\n",
              "          await google.colab.kernel.invokeFunction('convertToInteractive',\n",
              "                                                    [key], {});\n",
              "        if (!dataTable) return;\n",
              "\n",
              "        const docLinkHtml = 'Like what you see? Visit the ' +\n",
              "          '<a target=\"_blank\" href=https://colab.research.google.com/notebooks/data_table.ipynb>data table notebook</a>'\n",
              "          + ' to learn more about interactive tables.';\n",
              "        element.innerHTML = '';\n",
              "        dataTable['output_type'] = 'display_data';\n",
              "        await google.colab.output.renderOutput(dataTable, element);\n",
              "        const docLink = document.createElement('div');\n",
              "        docLink.innerHTML = docLinkHtml;\n",
              "        element.appendChild(docLink);\n",
              "      }\n",
              "    </script>\n",
              "  </div>\n",
              "\n",
              "\n",
              "<div id=\"df-f9a37b70-94c0-47c0-a2e0-6ab6cdbe067f\">\n",
              "  <button class=\"colab-df-quickchart\" onclick=\"quickchart('df-f9a37b70-94c0-47c0-a2e0-6ab6cdbe067f')\"\n",
              "            title=\"Suggest charts.\"\n",
              "            style=\"display:none;\">\n",
              "\n",
              "<svg xmlns=\"http://www.w3.org/2000/svg\" height=\"24px\"viewBox=\"0 0 24 24\"\n",
              "     width=\"24px\">\n",
              "    <g>\n",
              "        <path d=\"M19 3H5c-1.1 0-2 .9-2 2v14c0 1.1.9 2 2 2h14c1.1 0 2-.9 2-2V5c0-1.1-.9-2-2-2zM9 17H7v-7h2v7zm4 0h-2V7h2v10zm4 0h-2v-4h2v4z\"/>\n",
              "    </g>\n",
              "</svg>\n",
              "  </button>\n",
              "\n",
              "<style>\n",
              "  .colab-df-quickchart {\n",
              "    background-color: #E8F0FE;\n",
              "    border: none;\n",
              "    border-radius: 50%;\n",
              "    cursor: pointer;\n",
              "    display: none;\n",
              "    fill: #1967D2;\n",
              "    height: 32px;\n",
              "    padding: 0 0 0 0;\n",
              "    width: 32px;\n",
              "  }\n",
              "\n",
              "  .colab-df-quickchart:hover {\n",
              "    background-color: #E2EBFA;\n",
              "    box-shadow: 0px 1px 2px rgba(60, 64, 67, 0.3), 0px 1px 3px 1px rgba(60, 64, 67, 0.15);\n",
              "    fill: #174EA6;\n",
              "  }\n",
              "\n",
              "  [theme=dark] .colab-df-quickchart {\n",
              "    background-color: #3B4455;\n",
              "    fill: #D2E3FC;\n",
              "  }\n",
              "\n",
              "  [theme=dark] .colab-df-quickchart:hover {\n",
              "    background-color: #434B5C;\n",
              "    box-shadow: 0px 1px 3px 1px rgba(0, 0, 0, 0.15);\n",
              "    filter: drop-shadow(0px 1px 2px rgba(0, 0, 0, 0.3));\n",
              "    fill: #FFFFFF;\n",
              "  }\n",
              "</style>\n",
              "\n",
              "  <script>\n",
              "    async function quickchart(key) {\n",
              "      const charts = await google.colab.kernel.invokeFunction(\n",
              "          'suggestCharts', [key], {});\n",
              "    }\n",
              "    (() => {\n",
              "      let quickchartButtonEl =\n",
              "        document.querySelector('#df-f9a37b70-94c0-47c0-a2e0-6ab6cdbe067f button');\n",
              "      quickchartButtonEl.style.display =\n",
              "        google.colab.kernel.accessAllowed ? 'block' : 'none';\n",
              "    })();\n",
              "  </script>\n",
              "</div>\n",
              "    </div>\n",
              "  </div>\n"
            ]
          },
          "metadata": {},
          "execution_count": 4
        }
      ],
      "source": [
        "df_train.head()"
      ]
    },
    {
      "cell_type": "code",
      "execution_count": 5,
      "metadata": {
        "colab": {
          "base_uri": "https://localhost:8080/",
          "height": 206
        },
        "id": "bXH9Tu05V079",
        "outputId": "272c071e-a4e5-4bb2-a558-ef283f755693"
      },
      "outputs": [
        {
          "output_type": "execute_result",
          "data": {
            "text/plain": [
              "                 id                                       comment_text\n",
              "0  00001cee341fdb12  Yo bitch Ja Rule is more succesful then you'll...\n",
              "1  0000247867823ef7  == From RfC == \\n\\n The title is fine as it is...\n",
              "2  00013b17ad220c46  \" \\n\\n == Sources == \\n\\n * Zawe Ashton on Lap...\n",
              "3  00017563c3f7919a  :If you have a look back at the source, the in...\n",
              "4  00017695ad8997eb          I don't anonymously edit articles at all."
            ],
            "text/html": [
              "\n",
              "  <div id=\"df-c0d39f35-f371-4b3d-a3b7-1ebf7587dd9f\" class=\"colab-df-container\">\n",
              "    <div>\n",
              "<style scoped>\n",
              "    .dataframe tbody tr th:only-of-type {\n",
              "        vertical-align: middle;\n",
              "    }\n",
              "\n",
              "    .dataframe tbody tr th {\n",
              "        vertical-align: top;\n",
              "    }\n",
              "\n",
              "    .dataframe thead th {\n",
              "        text-align: right;\n",
              "    }\n",
              "</style>\n",
              "<table border=\"1\" class=\"dataframe\">\n",
              "  <thead>\n",
              "    <tr style=\"text-align: right;\">\n",
              "      <th></th>\n",
              "      <th>id</th>\n",
              "      <th>comment_text</th>\n",
              "    </tr>\n",
              "  </thead>\n",
              "  <tbody>\n",
              "    <tr>\n",
              "      <th>0</th>\n",
              "      <td>00001cee341fdb12</td>\n",
              "      <td>Yo bitch Ja Rule is more succesful then you'll...</td>\n",
              "    </tr>\n",
              "    <tr>\n",
              "      <th>1</th>\n",
              "      <td>0000247867823ef7</td>\n",
              "      <td>== From RfC == \\n\\n The title is fine as it is...</td>\n",
              "    </tr>\n",
              "    <tr>\n",
              "      <th>2</th>\n",
              "      <td>00013b17ad220c46</td>\n",
              "      <td>\" \\n\\n == Sources == \\n\\n * Zawe Ashton on Lap...</td>\n",
              "    </tr>\n",
              "    <tr>\n",
              "      <th>3</th>\n",
              "      <td>00017563c3f7919a</td>\n",
              "      <td>:If you have a look back at the source, the in...</td>\n",
              "    </tr>\n",
              "    <tr>\n",
              "      <th>4</th>\n",
              "      <td>00017695ad8997eb</td>\n",
              "      <td>I don't anonymously edit articles at all.</td>\n",
              "    </tr>\n",
              "  </tbody>\n",
              "</table>\n",
              "</div>\n",
              "    <div class=\"colab-df-buttons\">\n",
              "\n",
              "  <div class=\"colab-df-container\">\n",
              "    <button class=\"colab-df-convert\" onclick=\"convertToInteractive('df-c0d39f35-f371-4b3d-a3b7-1ebf7587dd9f')\"\n",
              "            title=\"Convert this dataframe to an interactive table.\"\n",
              "            style=\"display:none;\">\n",
              "\n",
              "  <svg xmlns=\"http://www.w3.org/2000/svg\" height=\"24px\" viewBox=\"0 -960 960 960\">\n",
              "    <path d=\"M120-120v-720h720v720H120Zm60-500h600v-160H180v160Zm220 220h160v-160H400v160Zm0 220h160v-160H400v160ZM180-400h160v-160H180v160Zm440 0h160v-160H620v160ZM180-180h160v-160H180v160Zm440 0h160v-160H620v160Z\"/>\n",
              "  </svg>\n",
              "    </button>\n",
              "\n",
              "  <style>\n",
              "    .colab-df-container {\n",
              "      display:flex;\n",
              "      gap: 12px;\n",
              "    }\n",
              "\n",
              "    .colab-df-convert {\n",
              "      background-color: #E8F0FE;\n",
              "      border: none;\n",
              "      border-radius: 50%;\n",
              "      cursor: pointer;\n",
              "      display: none;\n",
              "      fill: #1967D2;\n",
              "      height: 32px;\n",
              "      padding: 0 0 0 0;\n",
              "      width: 32px;\n",
              "    }\n",
              "\n",
              "    .colab-df-convert:hover {\n",
              "      background-color: #E2EBFA;\n",
              "      box-shadow: 0px 1px 2px rgba(60, 64, 67, 0.3), 0px 1px 3px 1px rgba(60, 64, 67, 0.15);\n",
              "      fill: #174EA6;\n",
              "    }\n",
              "\n",
              "    .colab-df-buttons div {\n",
              "      margin-bottom: 4px;\n",
              "    }\n",
              "\n",
              "    [theme=dark] .colab-df-convert {\n",
              "      background-color: #3B4455;\n",
              "      fill: #D2E3FC;\n",
              "    }\n",
              "\n",
              "    [theme=dark] .colab-df-convert:hover {\n",
              "      background-color: #434B5C;\n",
              "      box-shadow: 0px 1px 3px 1px rgba(0, 0, 0, 0.15);\n",
              "      filter: drop-shadow(0px 1px 2px rgba(0, 0, 0, 0.3));\n",
              "      fill: #FFFFFF;\n",
              "    }\n",
              "  </style>\n",
              "\n",
              "    <script>\n",
              "      const buttonEl =\n",
              "        document.querySelector('#df-c0d39f35-f371-4b3d-a3b7-1ebf7587dd9f button.colab-df-convert');\n",
              "      buttonEl.style.display =\n",
              "        google.colab.kernel.accessAllowed ? 'block' : 'none';\n",
              "\n",
              "      async function convertToInteractive(key) {\n",
              "        const element = document.querySelector('#df-c0d39f35-f371-4b3d-a3b7-1ebf7587dd9f');\n",
              "        const dataTable =\n",
              "          await google.colab.kernel.invokeFunction('convertToInteractive',\n",
              "                                                    [key], {});\n",
              "        if (!dataTable) return;\n",
              "\n",
              "        const docLinkHtml = 'Like what you see? Visit the ' +\n",
              "          '<a target=\"_blank\" href=https://colab.research.google.com/notebooks/data_table.ipynb>data table notebook</a>'\n",
              "          + ' to learn more about interactive tables.';\n",
              "        element.innerHTML = '';\n",
              "        dataTable['output_type'] = 'display_data';\n",
              "        await google.colab.output.renderOutput(dataTable, element);\n",
              "        const docLink = document.createElement('div');\n",
              "        docLink.innerHTML = docLinkHtml;\n",
              "        element.appendChild(docLink);\n",
              "      }\n",
              "    </script>\n",
              "  </div>\n",
              "\n",
              "\n",
              "<div id=\"df-52f5f306-a76b-4ed7-9f3e-301f49900b13\">\n",
              "  <button class=\"colab-df-quickchart\" onclick=\"quickchart('df-52f5f306-a76b-4ed7-9f3e-301f49900b13')\"\n",
              "            title=\"Suggest charts.\"\n",
              "            style=\"display:none;\">\n",
              "\n",
              "<svg xmlns=\"http://www.w3.org/2000/svg\" height=\"24px\"viewBox=\"0 0 24 24\"\n",
              "     width=\"24px\">\n",
              "    <g>\n",
              "        <path d=\"M19 3H5c-1.1 0-2 .9-2 2v14c0 1.1.9 2 2 2h14c1.1 0 2-.9 2-2V5c0-1.1-.9-2-2-2zM9 17H7v-7h2v7zm4 0h-2V7h2v10zm4 0h-2v-4h2v4z\"/>\n",
              "    </g>\n",
              "</svg>\n",
              "  </button>\n",
              "\n",
              "<style>\n",
              "  .colab-df-quickchart {\n",
              "    background-color: #E8F0FE;\n",
              "    border: none;\n",
              "    border-radius: 50%;\n",
              "    cursor: pointer;\n",
              "    display: none;\n",
              "    fill: #1967D2;\n",
              "    height: 32px;\n",
              "    padding: 0 0 0 0;\n",
              "    width: 32px;\n",
              "  }\n",
              "\n",
              "  .colab-df-quickchart:hover {\n",
              "    background-color: #E2EBFA;\n",
              "    box-shadow: 0px 1px 2px rgba(60, 64, 67, 0.3), 0px 1px 3px 1px rgba(60, 64, 67, 0.15);\n",
              "    fill: #174EA6;\n",
              "  }\n",
              "\n",
              "  [theme=dark] .colab-df-quickchart {\n",
              "    background-color: #3B4455;\n",
              "    fill: #D2E3FC;\n",
              "  }\n",
              "\n",
              "  [theme=dark] .colab-df-quickchart:hover {\n",
              "    background-color: #434B5C;\n",
              "    box-shadow: 0px 1px 3px 1px rgba(0, 0, 0, 0.15);\n",
              "    filter: drop-shadow(0px 1px 2px rgba(0, 0, 0, 0.3));\n",
              "    fill: #FFFFFF;\n",
              "  }\n",
              "</style>\n",
              "\n",
              "  <script>\n",
              "    async function quickchart(key) {\n",
              "      const charts = await google.colab.kernel.invokeFunction(\n",
              "          'suggestCharts', [key], {});\n",
              "    }\n",
              "    (() => {\n",
              "      let quickchartButtonEl =\n",
              "        document.querySelector('#df-52f5f306-a76b-4ed7-9f3e-301f49900b13 button');\n",
              "      quickchartButtonEl.style.display =\n",
              "        google.colab.kernel.accessAllowed ? 'block' : 'none';\n",
              "    })();\n",
              "  </script>\n",
              "</div>\n",
              "    </div>\n",
              "  </div>\n"
            ]
          },
          "metadata": {},
          "execution_count": 5
        }
      ],
      "source": [
        "df_test.head()"
      ]
    },
    {
      "cell_type": "code",
      "execution_count": 6,
      "metadata": {
        "colab": {
          "base_uri": "https://localhost:8080/",
          "height": 206
        },
        "id": "aCRnRQh_V38e",
        "outputId": "d8384022-dadf-458a-e5c5-e2e958d28191"
      },
      "outputs": [
        {
          "output_type": "execute_result",
          "data": {
            "text/plain": [
              "                 id  toxic  severe_toxic  obscene  threat  insult  \\\n",
              "0  00001cee341fdb12     -1            -1       -1      -1      -1   \n",
              "1  0000247867823ef7     -1            -1       -1      -1      -1   \n",
              "2  00013b17ad220c46     -1            -1       -1      -1      -1   \n",
              "3  00017563c3f7919a     -1            -1       -1      -1      -1   \n",
              "4  00017695ad8997eb     -1            -1       -1      -1      -1   \n",
              "\n",
              "   identity_hate  \n",
              "0             -1  \n",
              "1             -1  \n",
              "2             -1  \n",
              "3             -1  \n",
              "4             -1  "
            ],
            "text/html": [
              "\n",
              "  <div id=\"df-daf9e83e-f04f-4e8b-96f3-add280b5db07\" class=\"colab-df-container\">\n",
              "    <div>\n",
              "<style scoped>\n",
              "    .dataframe tbody tr th:only-of-type {\n",
              "        vertical-align: middle;\n",
              "    }\n",
              "\n",
              "    .dataframe tbody tr th {\n",
              "        vertical-align: top;\n",
              "    }\n",
              "\n",
              "    .dataframe thead th {\n",
              "        text-align: right;\n",
              "    }\n",
              "</style>\n",
              "<table border=\"1\" class=\"dataframe\">\n",
              "  <thead>\n",
              "    <tr style=\"text-align: right;\">\n",
              "      <th></th>\n",
              "      <th>id</th>\n",
              "      <th>toxic</th>\n",
              "      <th>severe_toxic</th>\n",
              "      <th>obscene</th>\n",
              "      <th>threat</th>\n",
              "      <th>insult</th>\n",
              "      <th>identity_hate</th>\n",
              "    </tr>\n",
              "  </thead>\n",
              "  <tbody>\n",
              "    <tr>\n",
              "      <th>0</th>\n",
              "      <td>00001cee341fdb12</td>\n",
              "      <td>-1</td>\n",
              "      <td>-1</td>\n",
              "      <td>-1</td>\n",
              "      <td>-1</td>\n",
              "      <td>-1</td>\n",
              "      <td>-1</td>\n",
              "    </tr>\n",
              "    <tr>\n",
              "      <th>1</th>\n",
              "      <td>0000247867823ef7</td>\n",
              "      <td>-1</td>\n",
              "      <td>-1</td>\n",
              "      <td>-1</td>\n",
              "      <td>-1</td>\n",
              "      <td>-1</td>\n",
              "      <td>-1</td>\n",
              "    </tr>\n",
              "    <tr>\n",
              "      <th>2</th>\n",
              "      <td>00013b17ad220c46</td>\n",
              "      <td>-1</td>\n",
              "      <td>-1</td>\n",
              "      <td>-1</td>\n",
              "      <td>-1</td>\n",
              "      <td>-1</td>\n",
              "      <td>-1</td>\n",
              "    </tr>\n",
              "    <tr>\n",
              "      <th>3</th>\n",
              "      <td>00017563c3f7919a</td>\n",
              "      <td>-1</td>\n",
              "      <td>-1</td>\n",
              "      <td>-1</td>\n",
              "      <td>-1</td>\n",
              "      <td>-1</td>\n",
              "      <td>-1</td>\n",
              "    </tr>\n",
              "    <tr>\n",
              "      <th>4</th>\n",
              "      <td>00017695ad8997eb</td>\n",
              "      <td>-1</td>\n",
              "      <td>-1</td>\n",
              "      <td>-1</td>\n",
              "      <td>-1</td>\n",
              "      <td>-1</td>\n",
              "      <td>-1</td>\n",
              "    </tr>\n",
              "  </tbody>\n",
              "</table>\n",
              "</div>\n",
              "    <div class=\"colab-df-buttons\">\n",
              "\n",
              "  <div class=\"colab-df-container\">\n",
              "    <button class=\"colab-df-convert\" onclick=\"convertToInteractive('df-daf9e83e-f04f-4e8b-96f3-add280b5db07')\"\n",
              "            title=\"Convert this dataframe to an interactive table.\"\n",
              "            style=\"display:none;\">\n",
              "\n",
              "  <svg xmlns=\"http://www.w3.org/2000/svg\" height=\"24px\" viewBox=\"0 -960 960 960\">\n",
              "    <path d=\"M120-120v-720h720v720H120Zm60-500h600v-160H180v160Zm220 220h160v-160H400v160Zm0 220h160v-160H400v160ZM180-400h160v-160H180v160Zm440 0h160v-160H620v160ZM180-180h160v-160H180v160Zm440 0h160v-160H620v160Z\"/>\n",
              "  </svg>\n",
              "    </button>\n",
              "\n",
              "  <style>\n",
              "    .colab-df-container {\n",
              "      display:flex;\n",
              "      gap: 12px;\n",
              "    }\n",
              "\n",
              "    .colab-df-convert {\n",
              "      background-color: #E8F0FE;\n",
              "      border: none;\n",
              "      border-radius: 50%;\n",
              "      cursor: pointer;\n",
              "      display: none;\n",
              "      fill: #1967D2;\n",
              "      height: 32px;\n",
              "      padding: 0 0 0 0;\n",
              "      width: 32px;\n",
              "    }\n",
              "\n",
              "    .colab-df-convert:hover {\n",
              "      background-color: #E2EBFA;\n",
              "      box-shadow: 0px 1px 2px rgba(60, 64, 67, 0.3), 0px 1px 3px 1px rgba(60, 64, 67, 0.15);\n",
              "      fill: #174EA6;\n",
              "    }\n",
              "\n",
              "    .colab-df-buttons div {\n",
              "      margin-bottom: 4px;\n",
              "    }\n",
              "\n",
              "    [theme=dark] .colab-df-convert {\n",
              "      background-color: #3B4455;\n",
              "      fill: #D2E3FC;\n",
              "    }\n",
              "\n",
              "    [theme=dark] .colab-df-convert:hover {\n",
              "      background-color: #434B5C;\n",
              "      box-shadow: 0px 1px 3px 1px rgba(0, 0, 0, 0.15);\n",
              "      filter: drop-shadow(0px 1px 2px rgba(0, 0, 0, 0.3));\n",
              "      fill: #FFFFFF;\n",
              "    }\n",
              "  </style>\n",
              "\n",
              "    <script>\n",
              "      const buttonEl =\n",
              "        document.querySelector('#df-daf9e83e-f04f-4e8b-96f3-add280b5db07 button.colab-df-convert');\n",
              "      buttonEl.style.display =\n",
              "        google.colab.kernel.accessAllowed ? 'block' : 'none';\n",
              "\n",
              "      async function convertToInteractive(key) {\n",
              "        const element = document.querySelector('#df-daf9e83e-f04f-4e8b-96f3-add280b5db07');\n",
              "        const dataTable =\n",
              "          await google.colab.kernel.invokeFunction('convertToInteractive',\n",
              "                                                    [key], {});\n",
              "        if (!dataTable) return;\n",
              "\n",
              "        const docLinkHtml = 'Like what you see? Visit the ' +\n",
              "          '<a target=\"_blank\" href=https://colab.research.google.com/notebooks/data_table.ipynb>data table notebook</a>'\n",
              "          + ' to learn more about interactive tables.';\n",
              "        element.innerHTML = '';\n",
              "        dataTable['output_type'] = 'display_data';\n",
              "        await google.colab.output.renderOutput(dataTable, element);\n",
              "        const docLink = document.createElement('div');\n",
              "        docLink.innerHTML = docLinkHtml;\n",
              "        element.appendChild(docLink);\n",
              "      }\n",
              "    </script>\n",
              "  </div>\n",
              "\n",
              "\n",
              "<div id=\"df-b5c1d0b8-9c4d-48b9-a628-248e6cec3f74\">\n",
              "  <button class=\"colab-df-quickchart\" onclick=\"quickchart('df-b5c1d0b8-9c4d-48b9-a628-248e6cec3f74')\"\n",
              "            title=\"Suggest charts.\"\n",
              "            style=\"display:none;\">\n",
              "\n",
              "<svg xmlns=\"http://www.w3.org/2000/svg\" height=\"24px\"viewBox=\"0 0 24 24\"\n",
              "     width=\"24px\">\n",
              "    <g>\n",
              "        <path d=\"M19 3H5c-1.1 0-2 .9-2 2v14c0 1.1.9 2 2 2h14c1.1 0 2-.9 2-2V5c0-1.1-.9-2-2-2zM9 17H7v-7h2v7zm4 0h-2V7h2v10zm4 0h-2v-4h2v4z\"/>\n",
              "    </g>\n",
              "</svg>\n",
              "  </button>\n",
              "\n",
              "<style>\n",
              "  .colab-df-quickchart {\n",
              "    background-color: #E8F0FE;\n",
              "    border: none;\n",
              "    border-radius: 50%;\n",
              "    cursor: pointer;\n",
              "    display: none;\n",
              "    fill: #1967D2;\n",
              "    height: 32px;\n",
              "    padding: 0 0 0 0;\n",
              "    width: 32px;\n",
              "  }\n",
              "\n",
              "  .colab-df-quickchart:hover {\n",
              "    background-color: #E2EBFA;\n",
              "    box-shadow: 0px 1px 2px rgba(60, 64, 67, 0.3), 0px 1px 3px 1px rgba(60, 64, 67, 0.15);\n",
              "    fill: #174EA6;\n",
              "  }\n",
              "\n",
              "  [theme=dark] .colab-df-quickchart {\n",
              "    background-color: #3B4455;\n",
              "    fill: #D2E3FC;\n",
              "  }\n",
              "\n",
              "  [theme=dark] .colab-df-quickchart:hover {\n",
              "    background-color: #434B5C;\n",
              "    box-shadow: 0px 1px 3px 1px rgba(0, 0, 0, 0.15);\n",
              "    filter: drop-shadow(0px 1px 2px rgba(0, 0, 0, 0.3));\n",
              "    fill: #FFFFFF;\n",
              "  }\n",
              "</style>\n",
              "\n",
              "  <script>\n",
              "    async function quickchart(key) {\n",
              "      const charts = await google.colab.kernel.invokeFunction(\n",
              "          'suggestCharts', [key], {});\n",
              "    }\n",
              "    (() => {\n",
              "      let quickchartButtonEl =\n",
              "        document.querySelector('#df-b5c1d0b8-9c4d-48b9-a628-248e6cec3f74 button');\n",
              "      quickchartButtonEl.style.display =\n",
              "        google.colab.kernel.accessAllowed ? 'block' : 'none';\n",
              "    })();\n",
              "  </script>\n",
              "</div>\n",
              "    </div>\n",
              "  </div>\n"
            ]
          },
          "metadata": {},
          "execution_count": 6
        }
      ],
      "source": [
        "df_test_labels.head()"
      ]
    },
    {
      "cell_type": "code",
      "execution_count": 7,
      "metadata": {
        "colab": {
          "base_uri": "https://localhost:8080/",
          "height": 71
        },
        "id": "rDMDhpqJV9RW",
        "outputId": "19f1d48f-e409-414a-cb83-93f7310caf09"
      },
      "outputs": [
        {
          "output_type": "execute_result",
          "data": {
            "text/plain": [
              "\"Explanation\\nWhy the edits made under my username Hardcore Metallica Fan were reverted? They weren't vandalisms, just closure on some GAs after I voted at New York Dolls FAC. And please don't remove the template from the talk page since I'm retired now.89.205.38.27\""
            ],
            "application/vnd.google.colaboratory.intrinsic+json": {
              "type": "string"
            }
          },
          "metadata": {},
          "execution_count": 7
        }
      ],
      "source": [
        "df_train.iloc[0]['comment_text']"
      ]
    },
    {
      "cell_type": "code",
      "execution_count": 8,
      "metadata": {
        "colab": {
          "base_uri": "https://localhost:8080/"
        },
        "id": "iZ6r9TcGWNOc",
        "outputId": "9bb6cd51-e045-4dde-a2df-96f152e49643"
      },
      "outputs": [
        {
          "output_type": "execute_result",
          "data": {
            "text/plain": [
              "toxic            0\n",
              "severe_toxic     0\n",
              "obscene          0\n",
              "threat           0\n",
              "insult           0\n",
              "identity_hate    0\n",
              "Name: 0, dtype: int64"
            ]
          },
          "metadata": {},
          "execution_count": 8
        }
      ],
      "source": [
        "df_train[df_train.columns[2:]].iloc[0]"
      ]
    },
    {
      "cell_type": "code",
      "execution_count": 9,
      "metadata": {
        "id": "3Hx5g4KiWfzv"
      },
      "outputs": [],
      "source": [
        "from tensorflow.keras.layers import TextVectorization"
      ]
    },
    {
      "cell_type": "code",
      "execution_count": 10,
      "metadata": {
        "id": "psyXFnOyYky1"
      },
      "outputs": [],
      "source": [
        "#training data\n",
        "X_train = df_train['comment_text']\n",
        "y_train = df_train[df_train.columns[2:]].values"
      ]
    },
    {
      "cell_type": "code",
      "execution_count": 11,
      "metadata": {
        "id": "OUMGbTM6iuBW"
      },
      "outputs": [],
      "source": [
        "#testing data\n",
        "X_test = df_test['comment_text']\n",
        "y_test = df_test_labels[df_test_labels.columns[1:]].values"
      ]
    },
    {
      "cell_type": "code",
      "execution_count": 12,
      "metadata": {
        "colab": {
          "base_uri": "https://localhost:8080/"
        },
        "id": "Ewb8FzyzaNpy",
        "outputId": "9736ba42-0f2d-40ac-f20a-cee83d3b91e0"
      },
      "outputs": [
        {
          "output_type": "execute_result",
          "data": {
            "text/plain": [
              "0         Explanation\\nWhy the edits made under my usern...\n",
              "1         D'aww! He matches this background colour I'm s...\n",
              "2         Hey man, I'm really not trying to edit war. It...\n",
              "3         \"\\nMore\\nI can't make any real suggestions on ...\n",
              "4         You, sir, are my hero. Any chance you remember...\n",
              "                                ...                        \n",
              "159566    \":::::And for the second time of asking, when ...\n",
              "159567    You should be ashamed of yourself \\n\\nThat is ...\n",
              "159568    Spitzer \\n\\nUmm, theres no actual article for ...\n",
              "159569    And it looks like it was actually you who put ...\n",
              "159570    \"\\nAnd ... I really don't think you understand...\n",
              "Name: comment_text, Length: 159571, dtype: object"
            ]
          },
          "metadata": {},
          "execution_count": 12
        }
      ],
      "source": [
        "X_train"
      ]
    },
    {
      "cell_type": "code",
      "execution_count": 13,
      "metadata": {
        "colab": {
          "base_uri": "https://localhost:8080/"
        },
        "id": "XO_tBvq6aXLQ",
        "outputId": "d292c8ab-1497-45b8-cb16-b60806038fd7"
      },
      "outputs": [
        {
          "output_type": "execute_result",
          "data": {
            "text/plain": [
              "array([[0, 0, 0, 0, 0, 0],\n",
              "       [0, 0, 0, 0, 0, 0],\n",
              "       [0, 0, 0, 0, 0, 0],\n",
              "       ...,\n",
              "       [0, 0, 0, 0, 0, 0],\n",
              "       [0, 0, 0, 0, 0, 0],\n",
              "       [0, 0, 0, 0, 0, 0]])"
            ]
          },
          "metadata": {},
          "execution_count": 13
        }
      ],
      "source": [
        "y_train"
      ]
    },
    {
      "cell_type": "code",
      "execution_count": 14,
      "metadata": {
        "colab": {
          "base_uri": "https://localhost:8080/"
        },
        "id": "yFSJKfg4jjPX",
        "outputId": "e7620a4e-1712-4cd3-8723-479a51b304a9"
      },
      "outputs": [
        {
          "output_type": "execute_result",
          "data": {
            "text/plain": [
              "0         Yo bitch Ja Rule is more succesful then you'll...\n",
              "1         == From RfC == \\n\\n The title is fine as it is...\n",
              "2         \" \\n\\n == Sources == \\n\\n * Zawe Ashton on Lap...\n",
              "3         :If you have a look back at the source, the in...\n",
              "4                 I don't anonymously edit articles at all.\n",
              "                                ...                        \n",
              "153159    . \\n i totally agree, this stuff is nothing bu...\n",
              "153160    == Throw from out field to home plate. == \\n\\n...\n",
              "153161    \" \\n\\n == Okinotorishima categories == \\n\\n I ...\n",
              "153162    \" \\n\\n == \"\"One of the founding nations of the...\n",
              "153163    \" \\n :::Stop already. Your bullshit is not wel...\n",
              "Name: comment_text, Length: 153164, dtype: object"
            ]
          },
          "metadata": {},
          "execution_count": 14
        }
      ],
      "source": [
        "X_test"
      ]
    },
    {
      "cell_type": "code",
      "execution_count": 15,
      "metadata": {
        "colab": {
          "base_uri": "https://localhost:8080/"
        },
        "id": "udVvQOWujmi4",
        "outputId": "7cf9ad70-0949-471b-eaa7-e7707e051425"
      },
      "outputs": [
        {
          "output_type": "execute_result",
          "data": {
            "text/plain": [
              "array([[-1, -1, -1, -1, -1, -1],\n",
              "       [-1, -1, -1, -1, -1, -1],\n",
              "       [-1, -1, -1, -1, -1, -1],\n",
              "       ...,\n",
              "       [-1, -1, -1, -1, -1, -1],\n",
              "       [-1, -1, -1, -1, -1, -1],\n",
              "       [-1, -1, -1, -1, -1, -1]])"
            ]
          },
          "metadata": {},
          "execution_count": 15
        }
      ],
      "source": [
        "y_test"
      ]
    },
    {
      "cell_type": "code",
      "execution_count": 16,
      "metadata": {
        "id": "Q8ye5A0qaXs5"
      },
      "outputs": [],
      "source": [
        "MAX_WORDS = 300000 #size of the vocabulary"
      ]
    },
    {
      "cell_type": "code",
      "execution_count": 17,
      "metadata": {
        "id": "YtIGIAAVaqL9"
      },
      "outputs": [],
      "source": [
        "vectorizer = TextVectorization(max_tokens= MAX_WORDS,\n",
        "                                            output_sequence_length= 2000,\n",
        "                                            output_mode= 'int')"
      ]
    },
    {
      "cell_type": "code",
      "execution_count": 18,
      "metadata": {
        "id": "OEfI4TRTblE1"
      },
      "outputs": [],
      "source": [
        "vectorizer.adapt(X_train.values)"
      ]
    },
    {
      "cell_type": "code",
      "execution_count": 19,
      "metadata": {
        "id": "fZHsftlWjwFP"
      },
      "outputs": [],
      "source": [
        "vectorizer.adapt(X_test.values)"
      ]
    },
    {
      "cell_type": "code",
      "execution_count": 20,
      "metadata": {
        "id": "EXSHXW94b_hA",
        "colab": {
          "base_uri": "https://localhost:8080/"
        },
        "outputId": "c5a70abe-acc7-4ef4-f8f4-48c4426dc429"
      },
      "outputs": [
        {
          "output_type": "execute_result",
          "data": {
            "text/plain": [
              "['',\n",
              " '[UNK]',\n",
              " 'the',\n",
              " 'to',\n",
              " 'a',\n",
              " 'of',\n",
              " 'and',\n",
              " 'you',\n",
              " 'is',\n",
              " 'i',\n",
              " 'that',\n",
              " 'in',\n",
              " 'it',\n",
              " 'this',\n",
              " 'for',\n",
              " 'not',\n",
              " 'on',\n",
              " 'be',\n",
              " 'as',\n",
              " 'are',\n",
              " 'have',\n",
              " 'with',\n",
              " 'your',\n",
              " 'if',\n",
              " 'article',\n",
              " 'was',\n",
              " 'but',\n",
              " 'or',\n",
              " 'an',\n",
              " 'at',\n",
              " 'from',\n",
              " 'my',\n",
              " 'by',\n",
              " 'page',\n",
              " 'about',\n",
              " 'so',\n",
              " 'do',\n",
              " 'what',\n",
              " 'can',\n",
              " 'all',\n",
              " 'there',\n",
              " 'its',\n",
              " 'wikipedia',\n",
              " 'me',\n",
              " 'fuck',\n",
              " 'would',\n",
              " 'like',\n",
              " 'has',\n",
              " 'just',\n",
              " 'they',\n",
              " 'one',\n",
              " 'no',\n",
              " 'will',\n",
              " 'we',\n",
              " 'dont',\n",
              " 'he',\n",
              " 'please',\n",
              " 'should',\n",
              " 'which',\n",
              " 'more',\n",
              " 'any',\n",
              " 'some',\n",
              " 'been',\n",
              " 'think',\n",
              " 'im',\n",
              " 'see',\n",
              " 'other',\n",
              " 'who',\n",
              " 'here',\n",
              " 'also',\n",
              " 'his',\n",
              " 'up',\n",
              " 'people',\n",
              " 'know',\n",
              " 'because',\n",
              " 'how',\n",
              " 'out',\n",
              " 'only',\n",
              " 'when',\n",
              " 'were',\n",
              " 'why',\n",
              " 'articles',\n",
              " 'use',\n",
              " 'then',\n",
              " 'edit',\n",
              " 'them',\n",
              " 'talk',\n",
              " 'may',\n",
              " 'time',\n",
              " 'now',\n",
              " 'am',\n",
              " 'than',\n",
              " 'their',\n",
              " 'did',\n",
              " 'being',\n",
              " 'get',\n",
              " 'even',\n",
              " 'make',\n",
              " 'thanks',\n",
              " 'does',\n",
              " 'good',\n",
              " 'had',\n",
              " 'could',\n",
              " 'very',\n",
              " 'well',\n",
              " 'sources',\n",
              " 'these',\n",
              " 'name',\n",
              " 'way',\n",
              " 'say',\n",
              " 'section',\n",
              " 'want',\n",
              " 'such',\n",
              " 'information',\n",
              " 'go',\n",
              " 'first',\n",
              " 'new',\n",
              " 'source',\n",
              " 'gay',\n",
              " 'need',\n",
              " 'really',\n",
              " 'help',\n",
              " 'much',\n",
              " 'into',\n",
              " 'ive',\n",
              " 'most',\n",
              " 'where',\n",
              " 'used',\n",
              " 'many',\n",
              " 'find',\n",
              " 'pages',\n",
              " 'again',\n",
              " 'made',\n",
              " 'deletion',\n",
              " 'discussion',\n",
              " 'those',\n",
              " 'same',\n",
              " 'editing',\n",
              " 'since',\n",
              " 'two',\n",
              " 'look',\n",
              " 'thank',\n",
              " 'still',\n",
              " 'work',\n",
              " 'youre',\n",
              " 'too',\n",
              " 'poop',\n",
              " 'point',\n",
              " 'over',\n",
              " 'something',\n",
              " 'thats',\n",
              " 'right',\n",
              " 'someone',\n",
              " 'before',\n",
              " 'him',\n",
              " 'after',\n",
              " 'add',\n",
              " 'back',\n",
              " 'going',\n",
              " 'u',\n",
              " 'fucking',\n",
              " 'take',\n",
              " 'list',\n",
              " 'nigger',\n",
              " 'doesnt',\n",
              " 'read',\n",
              " 'edits',\n",
              " 'said',\n",
              " 'deleted',\n",
              " 'shit',\n",
              " 'image',\n",
              " 'her',\n",
              " 'us',\n",
              " 'fact',\n",
              " 'she',\n",
              " 'added',\n",
              " 'penis',\n",
              " 'link',\n",
              " 'stupid',\n",
              " 'our',\n",
              " 'might',\n",
              " 'stop',\n",
              " 'own',\n",
              " 'sure',\n",
              " 'another',\n",
              " 'seems',\n",
              " 'user',\n",
              " 'content',\n",
              " 'off',\n",
              " 'without',\n",
              " 'actually',\n",
              " 'better',\n",
              " 'removed',\n",
              " 'cant',\n",
              " 'never',\n",
              " 'put',\n",
              " 'history',\n",
              " 'under',\n",
              " 'however',\n",
              " 'note',\n",
              " 'while',\n",
              " 'case',\n",
              " 'ill',\n",
              " 'both',\n",
              " 'place',\n",
              " 'comment',\n",
              " 'editors',\n",
              " 'using',\n",
              " 'suck',\n",
              " 'welcome',\n",
              " 'done',\n",
              " 'feel',\n",
              " 'anything',\n",
              " 'didnt',\n",
              " 'thing',\n",
              " 'things',\n",
              " 'little',\n",
              " 'question',\n",
              " 'must',\n",
              " 'best',\n",
              " 'believe',\n",
              " 'bitch',\n",
              " 'though',\n",
              " 'part',\n",
              " 'hope',\n",
              " 'change',\n",
              " 'reason',\n",
              " 'hi',\n",
              " 'world',\n",
              " 'blocked',\n",
              " 'ask',\n",
              " 'person',\n",
              " 'already',\n",
              " 'nothing',\n",
              " 'links',\n",
              " '2',\n",
              " 'free',\n",
              " 'isnt',\n",
              " 'wrong',\n",
              " 'policy',\n",
              " 'vandalism',\n",
              " 'word',\n",
              " 'give',\n",
              " 'keep',\n",
              " 'comments',\n",
              " 'english',\n",
              " 'problem',\n",
              " 'cunt',\n",
              " 'text',\n",
              " 'yourself',\n",
              " 'rather',\n",
              " 'agree',\n",
              " 'reliable',\n",
              " '—',\n",
              " '•',\n",
              " 'mean',\n",
              " 'above',\n",
              " 'youfuck',\n",
              " 'got',\n",
              " 'few',\n",
              " 'anyone',\n",
              " 'come',\n",
              " 'different',\n",
              " 'probably',\n",
              " 'says',\n",
              " 'last',\n",
              " 'long',\n",
              " 'years',\n",
              " 'reference',\n",
              " 'against',\n",
              " 'let',\n",
              " 'remove',\n",
              " 'issue',\n",
              " 'ass',\n",
              " 'great',\n",
              " 'utc',\n",
              " '1',\n",
              " 'try',\n",
              " 'found',\n",
              " 'trying',\n",
              " 'subject',\n",
              " 'understand',\n",
              " 'block',\n",
              " 'enough',\n",
              " 'yes',\n",
              " 'others',\n",
              " 'either',\n",
              " 'needs',\n",
              " 'original',\n",
              " 'around',\n",
              " 'sorry',\n",
              " 'least',\n",
              " 'id',\n",
              " 'life',\n",
              " 'example',\n",
              " 'personal',\n",
              " 'references',\n",
              " 'copyright',\n",
              " 'making',\n",
              " 'state',\n",
              " 'every',\n",
              " 'tag',\n",
              " 'faggot',\n",
              " 'down',\n",
              " 'simply',\n",
              " 'thought',\n",
              " 'doing',\n",
              " 'far',\n",
              " 'questions',\n",
              " 'die',\n",
              " 'show',\n",
              " 'day',\n",
              " 'between',\n",
              " 'real',\n",
              " 'through',\n",
              " 'called',\n",
              " 'd',\n",
              " 'adding',\n",
              " 'etc',\n",
              " 'term',\n",
              " 'lot',\n",
              " 'sex',\n",
              " 'editor',\n",
              " 'support',\n",
              " 'saying',\n",
              " 'consensus',\n",
              " 'hello',\n",
              " 'ever',\n",
              " 'given',\n",
              " 'opinion',\n",
              " 'bit',\n",
              " 'hate',\n",
              " 'maybe',\n",
              " 'material',\n",
              " 'speedy',\n",
              " 'theres',\n",
              " 'leave',\n",
              " 'continue',\n",
              " 'else',\n",
              " 'book',\n",
              " 'having',\n",
              " 'quite',\n",
              " 'images',\n",
              " 'old',\n",
              " 'war',\n",
              " 'always',\n",
              " 'perhaps',\n",
              " 'seem',\n",
              " 'request',\n",
              " '3',\n",
              " 'mention',\n",
              " 'check',\n",
              " 'man',\n",
              " 'ip',\n",
              " 'big',\n",
              " 'whether',\n",
              " 'view',\n",
              " 'matter',\n",
              " 'yet',\n",
              " 'makes',\n",
              " 'write',\n",
              " 'correct',\n",
              " 'number',\n",
              " 'created',\n",
              " 'wiki',\n",
              " 'until',\n",
              " 'idea',\n",
              " 'states',\n",
              " 'true',\n",
              " 'title',\n",
              " 'tell',\n",
              " 'language',\n",
              " 'review',\n",
              " 'cock',\n",
              " 'clear',\n",
              " 'bad',\n",
              " 'instead',\n",
              " 'notable',\n",
              " 'redirect',\n",
              " 'words',\n",
              " 'fair',\n",
              " 'dick',\n",
              " 'research',\n",
              " 'getting',\n",
              " 'balls',\n",
              " 'site',\n",
              " 'message',\n",
              " 'important',\n",
              " 'times',\n",
              " 'means',\n",
              " 'clearly',\n",
              " 'delete',\n",
              " 'claim',\n",
              " 'written',\n",
              " 'reverted',\n",
              " 'further',\n",
              " 'hell',\n",
              " 'top',\n",
              " 'encyclopedia',\n",
              " 'start',\n",
              " 'once',\n",
              " 'evidence',\n",
              " 'media',\n",
              " 'current',\n",
              " 'version',\n",
              " 'considered',\n",
              " 'main',\n",
              " 'account',\n",
              " '–',\n",
              " 'seen',\n",
              " 'sucks',\n",
              " 'consider',\n",
              " 'changes',\n",
              " 'whole',\n",
              " 'each',\n",
              " 'black',\n",
              " 'post',\n",
              " 'move',\n",
              " 'include',\n",
              " 'course',\n",
              " 'sentence',\n",
              " 'general',\n",
              " 'mentioned',\n",
              " 'based',\n",
              " 'year',\n",
              " 'possible',\n",
              " 'cannot',\n",
              " 'kind',\n",
              " 'call',\n",
              " 'website',\n",
              " 'several',\n",
              " 'american',\n",
              " 'users',\n",
              " 'second',\n",
              " 'listed',\n",
              " 'template',\n",
              " 'ok',\n",
              " 'end',\n",
              " 'suggest',\n",
              " 'left',\n",
              " 'less',\n",
              " 'statement',\n",
              " 'date',\n",
              " 'topic',\n",
              " 'de',\n",
              " 'issues',\n",
              " 'oh',\n",
              " 'love',\n",
              " 'group',\n",
              " 'sense',\n",
              " 'regarding',\n",
              " 'including',\n",
              " 'three',\n",
              " 'guidelines',\n",
              " 'revert',\n",
              " 'picture',\n",
              " 'following',\n",
              " 'pov',\n",
              " 'appropriate',\n",
              " 'changed',\n",
              " 'pretty',\n",
              " 'criteria',\n",
              " 'youve',\n",
              " 'hes',\n",
              " 'next',\n",
              " 'looks',\n",
              " 'lead',\n",
              " 'per',\n",
              " 'care',\n",
              " 'looking',\n",
              " 'school',\n",
              " 'although',\n",
              " 'mind',\n",
              " 'dicks',\n",
              " 'notice',\n",
              " 'address',\n",
              " 'anyway',\n",
              " 'common',\n",
              " 'happy',\n",
              " 'create',\n",
              " 'hey',\n",
              " 'niggers',\n",
              " 'included',\n",
              " 'specific',\n",
              " 'project',\n",
              " 'away',\n",
              " 'days',\n",
              " 'relevant',\n",
              " 'kill',\n",
              " '4',\n",
              " 'white',\n",
              " 'known',\n",
              " 'itself',\n",
              " 'provide',\n",
              " 'myself',\n",
              " 'wikipedias',\n",
              " 'nonsense',\n",
              " 'mother',\n",
              " 'stuff',\n",
              " 'god',\n",
              " 'later',\n",
              " 'everyone',\n",
              " 'summary',\n",
              " 'four',\n",
              " 'line',\n",
              " 'full',\n",
              " 'style',\n",
              " 'started',\n",
              " 'rules',\n",
              " 'c',\n",
              " 'info',\n",
              " 'game',\n",
              " 'names',\n",
              " 'facts',\n",
              " 'currently',\n",
              " 'certainly',\n",
              " 'during',\n",
              " 'country',\n",
              " 'hard',\n",
              " 'single',\n",
              " 'wasnt',\n",
              " 'claims',\n",
              " 'related',\n",
              " 'especially',\n",
              " 'admin',\n",
              " 'appears',\n",
              " 'recent',\n",
              " 'unless',\n",
              " 'wrote',\n",
              " 'answer',\n",
              " 'within',\n",
              " 'sign',\n",
              " 'contributions',\n",
              " 'wish',\n",
              " 'explain',\n",
              " 'taken',\n",
              " 'completely',\n",
              " 'quote',\n",
              " 'e',\n",
              " 'came',\n",
              " 'interested',\n",
              " 'middle',\n",
              " 'notability',\n",
              " 'wont',\n",
              " 'order',\n",
              " 'scruffy',\n",
              " 'paragraph',\n",
              " 'official',\n",
              " 'solid',\n",
              " 'useful',\n",
              " 'removing',\n",
              " 'public',\n",
              " 'below',\n",
              " 'و',\n",
              " 'able',\n",
              " 'remember',\n",
              " 'news',\n",
              " 'idiot',\n",
              " 'everything',\n",
              " 'learn',\n",
              " 'nice',\n",
              " 'writing',\n",
              " 'small',\n",
              " 'according',\n",
              " 'reading',\n",
              " 'often',\n",
              " 'neutral',\n",
              " 'crap',\n",
              " 'talking',\n",
              " 'report',\n",
              " '5',\n",
              " 'guy',\n",
              " 'entry',\n",
              " 'definition',\n",
              " 'discuss',\n",
              " 'community',\n",
              " 'wanted',\n",
              " 'vandal',\n",
              " 'government',\n",
              " 'similar',\n",
              " 'position',\n",
              " 'political',\n",
              " 'stay',\n",
              " 'whatever',\n",
              " 'almost',\n",
              " 'argument',\n",
              " 'today',\n",
              " 'large',\n",
              " 'future',\n",
              " 'terms',\n",
              " 'policies',\n",
              " 'working',\n",
              " 'obviously',\n",
              " 'due',\n",
              " 'particular',\n",
              " 'process',\n",
              " 'therefore',\n",
              " 'system',\n",
              " 'fine',\n",
              " 'moved',\n",
              " 'likely',\n",
              " 'high',\n",
              " 'become',\n",
              " 'exactly',\n",
              " 'form',\n",
              " 'interest',\n",
              " 'needed',\n",
              " 'death',\n",
              " 'reasons',\n",
              " 'guess',\n",
              " 'regards',\n",
              " 'fag',\n",
              " 'prick',\n",
              " 'music',\n",
              " 'vandalize',\n",
              " 'law',\n",
              " 'ago',\n",
              " 'lets',\n",
              " 'past',\n",
              " 'film',\n",
              " 'cheers',\n",
              " 'city',\n",
              " 'published',\n",
              " 'saw',\n",
              " 'sandbox',\n",
              " 'british',\n",
              " 'noticed',\n",
              " 'short',\n",
              " 'major',\n",
              " 'jews',\n",
              " 'asked',\n",
              " 'ones',\n",
              " 'email',\n",
              " 'admins',\n",
              " '\\xa0',\n",
              " 'wouldnt',\n",
              " 'company',\n",
              " 'live',\n",
              " 'havent',\n",
              " 'asshole',\n",
              " 'search',\n",
              " 'area',\n",
              " 'shows',\n",
              " 'vagina',\n",
              " 'otherwise',\n",
              " 'human',\n",
              " 'along',\n",
              " 'side',\n",
              " 'theyre',\n",
              " 'attack',\n",
              " 'nor',\n",
              " 'yeah',\n",
              " 'united',\n",
              " 'involved',\n",
              " '2005',\n",
              " 'response',\n",
              " 'arent',\n",
              " 'web',\n",
              " 'cited',\n",
              " 'party',\n",
              " 'poo',\n",
              " 'guys',\n",
              " 'books',\n",
              " 'piece',\n",
              " 'racist',\n",
              " 'problems',\n",
              " 'complete',\n",
              " 'b',\n",
              " 'took',\n",
              " 'context',\n",
              " 'google',\n",
              " 'generally',\n",
              " 'points',\n",
              " 'five',\n",
              " 'set',\n",
              " 'pussy',\n",
              " 'head',\n",
              " 'works',\n",
              " 'german',\n",
              " 'f',\n",
              " 'warning',\n",
              " 'da',\n",
              " 'edited',\n",
              " 'family',\n",
              " 'placed',\n",
              " 'interesting',\n",
              " 'actual',\n",
              " 'story',\n",
              " 'youi',\n",
              " 'whats',\n",
              " 'present',\n",
              " 'faith',\n",
              " 'heard',\n",
              " 'soon',\n",
              " 'indeed',\n",
              " 'bullshit',\n",
              " 'recently',\n",
              " 'seriously',\n",
              " 'taking',\n",
              " 'appreciate',\n",
              " 'lol',\n",
              " 'shouldnt',\n",
              " 'citation',\n",
              " 'status',\n",
              " 'sort',\n",
              " 'ie',\n",
              " 'entire',\n",
              " 'tried',\n",
              " 'comes',\n",
              " '10',\n",
              " 'hand',\n",
              " 'bastard',\n",
              " 'truth',\n",
              " 'damn',\n",
              " 'cause',\n",
              " 'certain',\n",
              " 'member',\n",
              " 'themselves',\n",
              " 'went',\n",
              " 'obvious',\n",
              " 'posted',\n",
              " 'open',\n",
              " 'cite',\n",
              " 'o',\n",
              " 'meaning',\n",
              " 'stated',\n",
              " 'description',\n",
              " 'national',\n",
              " 'category',\n",
              " 'views',\n",
              " 'username',\n",
              " 'improve',\n",
              " 'attacks',\n",
              " 'face',\n",
              " 'type',\n",
              " 'thus',\n",
              " 'follow',\n",
              " 'university',\n",
              " 'explanation',\n",
              " 'simple',\n",
              " 'usually',\n",
              " 'appear',\n",
              " 'loser',\n",
              " 'band',\n",
              " 'power',\n",
              " 'space',\n",
              " 'goes',\n",
              " 'blah',\n",
              " 'aware',\n",
              " 'theory',\n",
              " 'citations',\n",
              " 'john',\n",
              " 'decide',\n",
              " 'uploaded',\n",
              " 'living',\n",
              " 'song',\n",
              " 'necessary',\n",
              " 'series',\n",
              " 'dispute',\n",
              " 'rule',\n",
              " 'proposed',\n",
              " 'job',\n",
              " 'external',\n",
              " 'calling',\n",
              " 'told',\n",
              " 'avoid',\n",
              " 'disagree',\n",
              " 'happened',\n",
              " 'standard',\n",
              " 'longer',\n",
              " 'various',\n",
              " 're',\n",
              " 'gets',\n",
              " 'sections',\n",
              " 'provided',\n",
              " 'false',\n",
              " 'ㅂㄱㅇ',\n",
              " 'youll',\n",
              " 'wp',\n",
              " 'addition',\n",
              " 'couple',\n",
              " 'attention',\n",
              " 'table',\n",
              " 'nigga',\n",
              " 'dead',\n",
              " 'deal',\n",
              " 'rest',\n",
              " 'vote',\n",
              " 's',\n",
              " 'exist',\n",
              " 'result',\n",
              " 'deleting',\n",
              " 'r',\n",
              " '6',\n",
              " 'previous',\n",
              " 'killed',\n",
              " 'available',\n",
              " 'himself',\n",
              " 'week',\n",
              " 'padding',\n",
              " 'wikiproject',\n",
              " 'در',\n",
              " 'close',\n",
              " 'video',\n",
              " 'serious',\n",
              " 'fix',\n",
              " 'proper',\n",
              " 'reply',\n",
              " 'helpful',\n",
              " 'wtf',\n",
              " 'alone',\n",
              " 'copy',\n",
              " 'data',\n",
              " 'creating',\n",
              " 'lame',\n",
              " 'jesus',\n",
              " 'separate',\n",
              " 'file',\n",
              " 'early',\n",
              " 'july',\n",
              " 'reverting',\n",
              " 'enjoy',\n",
              " 'multiple',\n",
              " 'internet',\n",
              " 'fart',\n",
              " 'knowledge',\n",
              " 'women',\n",
              " 'sourced',\n",
              " 'members',\n",
              " 'thinking',\n",
              " 'npov',\n",
              " 'online',\n",
              " 'assume',\n",
              " 'wanker',\n",
              " 'statements',\n",
              " '7',\n",
              " 'photo',\n",
              " 'p',\n",
              " 'debate',\n",
              " 'sometimes',\n",
              " 'together',\n",
              " 'refer',\n",
              " 'born',\n",
              " 'details',\n",
              " 'opinions',\n",
              " 'primary',\n",
              " 'run',\n",
              " 'record',\n",
              " 'personally',\n",
              " 'third',\n",
              " 'fat',\n",
              " 'uses',\n",
              " 'test',\n",
              " 'sites',\n",
              " 'allowed',\n",
              " 'doubt',\n",
              " 'act',\n",
              " 'unsigned',\n",
              " 'meant',\n",
              " 'conflict',\n",
              " 'automatically',\n",
              " 'eg',\n",
              " 'wikipedian',\n",
              " 'la',\n",
              " '2006',\n",
              " 'countries',\n",
              " 'album',\n",
              " 'children',\n",
              " 'afd',\n",
              " 'accurate',\n",
              " 'rock',\n",
              " 'historical',\n",
              " 'science',\n",
              " 'months',\n",
              " 'cases',\n",
              " 'specifically',\n",
              " 'difference',\n",
              " 'except',\n",
              " 'accept',\n",
              " 'church',\n",
              " 'apparently',\n",
              " 'lack',\n",
              " 'worked',\n",
              " 'significant',\n",
              " 'jewish',\n",
              " 'directly',\n",
              " 'uk',\n",
              " 'international',\n",
              " '2008',\n",
              " 'contributing',\n",
              " 'south',\n",
              " 'contact',\n",
              " 'infobox',\n",
              " 'sexual',\n",
              " 'play',\n",
              " 'men',\n",
              " 'readers',\n",
              " 'fucked',\n",
              " 'attempt',\n",
              " 'described',\n",
              " 'tags',\n",
              " 'legal',\n",
              " 'که',\n",
              " 'respect',\n",
              " 'modern',\n",
              " 'inclusion',\n",
              " 'level',\n",
              " 'dumb',\n",
              " 'body',\n",
              " 'coming',\n",
              " 'tildes',\n",
              " 'worth',\n",
              " 'son',\n",
              " 'none',\n",
              " 'box',\n",
              " 'valid',\n",
              " 'criticism',\n",
              " 'author',\n",
              " 'm',\n",
              " '2010',\n",
              " 'tagged',\n",
              " 'period',\n",
              " 'sounds',\n",
              " 'release',\n",
              " 'red',\n",
              " 'boob',\n",
              " 'cocks',\n",
              " '2009',\n",
              " '12',\n",
              " 'mr',\n",
              " 'looked',\n",
              " 'examples',\n",
              " '2007',\n",
              " 'banned',\n",
              " 'motherfucker',\n",
              " '8',\n",
              " 'america',\n",
              " 'behind',\n",
              " 'incorrect',\n",
              " 'wait',\n",
              " 'changing',\n",
              " 'outside',\n",
              " 'orly',\n",
              " 'okay',\n",
              " 'march',\n",
              " 'supposed',\n",
              " 'gives',\n",
              " 'nyan',\n",
              " 'dixz',\n",
              " 'night',\n",
              " 'quality',\n",
              " 'putting',\n",
              " 'situation',\n",
              " 'among',\n",
              " 'poor',\n",
              " 'reader',\n",
              " 'house',\n",
              " 'hours',\n",
              " 'merge',\n",
              " 'manual',\n",
              " 'bring',\n",
              " 'figure',\n",
              " 'knows',\n",
              " 'accepted',\n",
              " 'rights',\n",
              " 'rationale',\n",
              " 'indicate',\n",
              " 'violation',\n",
              " '100',\n",
              " 'action',\n",
              " 'particularly',\n",
              " 'across',\n",
              " 'bias',\n",
              " 'neither',\n",
              " 'irrelevant',\n",
              " 'french',\n",
              " 'explaining',\n",
              " 'purpose',\n",
              " 'ridiculous',\n",
              " 'map',\n",
              " 'discussed',\n",
              " 'k',\n",
              " 'sound',\n",
              " 'money',\n",
              " 'numbers',\n",
              " 'possibly',\n",
              " '2011',\n",
              " 'ban',\n",
              " 'linked',\n",
              " 'culture',\n",
              " 'gone',\n",
              " 'arguments',\n",
              " 'porn',\n",
              " 'israel',\n",
              " '2012',\n",
              " 'happen',\n",
              " 'biased',\n",
              " 'light',\n",
              " 'entirely',\n",
              " 'control',\n",
              " ...]"
            ]
          },
          "metadata": {},
          "execution_count": 20
        }
      ],
      "source": [
        "vectorizer.get_vocabulary()"
      ]
    },
    {
      "cell_type": "code",
      "execution_count": 21,
      "metadata": {
        "colab": {
          "base_uri": "https://localhost:8080/"
        },
        "id": "OlZAqIuqcP9v",
        "outputId": "ed6603e1-fa70-480d-839d-123188b762a6"
      },
      "outputs": [
        {
          "output_type": "execute_result",
          "data": {
            "text/plain": [
              "<tf.Tensor: shape=(4,), dtype=int64, numpy=array([326,  75,  19,   7])>"
            ]
          },
          "metadata": {},
          "execution_count": 21
        }
      ],
      "source": [
        "vectorizer('hello, how are you?')[:4]"
      ]
    },
    {
      "cell_type": "code",
      "execution_count": 22,
      "metadata": {
        "id": "8yMVSgXacc9Z"
      },
      "outputs": [],
      "source": [
        "vectorized_training_text = vectorizer(X_train.values)"
      ]
    },
    {
      "cell_type": "code",
      "execution_count": 23,
      "metadata": {
        "id": "ONN9rb9jj91p"
      },
      "outputs": [],
      "source": [
        "vectorized_testing_text = vectorizer(X_test.values)"
      ]
    },
    {
      "cell_type": "code",
      "execution_count": 24,
      "metadata": {
        "colab": {
          "base_uri": "https://localhost:8080/"
        },
        "id": "_C6mB6PRc5_m",
        "outputId": "e0c2e5a3-fc46-42b4-d029-a4dc781145fb"
      },
      "outputs": [
        {
          "output_type": "execute_result",
          "data": {
            "text/plain": [
              "<tf.Tensor: shape=(159571, 2000), dtype=int64, numpy=\n",
              "array([[  738,    80,     2, ...,     0,     0,     0],\n",
              "       [    1,    55,  3267, ...,     0,     0,     0],\n",
              "       [  480,   352,    64, ...,     0,     0,     0],\n",
              "       ...,\n",
              "       [27758,  6733,   335, ...,     0,     0,     0],\n",
              "       [    6,    12,   465, ...,     0,     0,     0],\n",
              "       [    6,     9,   120, ...,     0,     0,     0]])>"
            ]
          },
          "metadata": {},
          "execution_count": 24
        }
      ],
      "source": [
        "vectorized_training_text"
      ]
    },
    {
      "cell_type": "code",
      "execution_count": 25,
      "metadata": {
        "id": "EZSkbYCXdEYF"
      },
      "outputs": [],
      "source": [
        "training_dataset = tf.data.Dataset.from_tensor_slices((vectorized_training_text, y_train))\n",
        "training_dataset = training_dataset.cache()\n",
        "training_dataset = training_dataset.shuffle(160000)\n",
        "training_dataset = training_dataset.batch(16)\n",
        "training_dataset = training_dataset.prefetch(8)"
      ]
    },
    {
      "cell_type": "code",
      "execution_count": 26,
      "metadata": {
        "id": "HpaGaWiQkVc2"
      },
      "outputs": [],
      "source": [
        "testing_dataset = tf.data.Dataset.from_tensor_slices((vectorized_testing_text, y_test))\n",
        "testing_dataset = testing_dataset.cache()\n",
        "testing_dataset = testing_dataset.shuffle(160000)\n",
        "testing_dataset = testing_dataset.batch(16)\n",
        "testing_dataset = testing_dataset.prefetch(8)"
      ]
    },
    {
      "cell_type": "code",
      "execution_count": 27,
      "metadata": {
        "colab": {
          "base_uri": "https://localhost:8080/"
        },
        "id": "PUivBvgaeToM",
        "outputId": "8b995d67-8fae-4d94-a158-ef33789279d6"
      },
      "outputs": [
        {
          "output_type": "execute_result",
          "data": {
            "text/plain": [
              "(array([[  12,  520,    1, ...,    0,    0,    0],\n",
              "        [   4, 1112,   14, ...,    0,    0,    0],\n",
              "        [  23,    7, 3004, ...,    0,    0,    0],\n",
              "        ...,\n",
              "        [  19,  159,    1, ...,    0,    0,    0],\n",
              "        [   1,   75,   36, ...,    0,    0,    0],\n",
              "        [   7,   19,  317, ...,    0,    0,    0]]),\n",
              " array([[0, 0, 0, 0, 0, 0],\n",
              "        [0, 0, 0, 0, 0, 0],\n",
              "        [0, 0, 0, 0, 0, 0],\n",
              "        [0, 0, 0, 0, 0, 0],\n",
              "        [0, 0, 0, 0, 0, 0],\n",
              "        [0, 0, 0, 0, 0, 0],\n",
              "        [0, 0, 0, 0, 0, 0],\n",
              "        [0, 0, 0, 0, 0, 0],\n",
              "        [1, 0, 1, 0, 1, 0],\n",
              "        [0, 0, 0, 0, 0, 0],\n",
              "        [0, 0, 0, 0, 0, 0],\n",
              "        [0, 0, 0, 0, 0, 0],\n",
              "        [0, 0, 0, 0, 0, 0],\n",
              "        [1, 0, 0, 0, 0, 0],\n",
              "        [1, 0, 0, 0, 0, 0],\n",
              "        [0, 0, 0, 0, 0, 0]]))"
            ]
          },
          "metadata": {},
          "execution_count": 27
        }
      ],
      "source": [
        "training_dataset.as_numpy_iterator().next()"
      ]
    },
    {
      "cell_type": "code",
      "execution_count": 28,
      "metadata": {
        "id": "wLCCTQRwfFd_"
      },
      "outputs": [],
      "source": [
        "batch_X_train, batch_y_train = training_dataset.as_numpy_iterator().next()"
      ]
    },
    {
      "cell_type": "code",
      "execution_count": 29,
      "metadata": {
        "id": "hsjQSUO6kuTl"
      },
      "outputs": [],
      "source": [
        "batch_X_test, batch_y_test = testing_dataset.as_numpy_iterator().next()"
      ]
    },
    {
      "cell_type": "code",
      "execution_count": 30,
      "metadata": {
        "colab": {
          "base_uri": "https://localhost:8080/"
        },
        "id": "gjCzmPHSfUha",
        "outputId": "139a8481-44fb-4d96-f03f-68751cfb41b7"
      },
      "outputs": [
        {
          "output_type": "execute_result",
          "data": {
            "text/plain": [
              "(16, 2000)"
            ]
          },
          "metadata": {},
          "execution_count": 30
        }
      ],
      "source": [
        "batch_X_train.shape"
      ]
    },
    {
      "cell_type": "code",
      "execution_count": 31,
      "metadata": {
        "colab": {
          "base_uri": "https://localhost:8080/"
        },
        "id": "aY34HwQUfVs7",
        "outputId": "551a05c6-781a-4fef-c8f6-d506d32904b9"
      },
      "outputs": [
        {
          "output_type": "execute_result",
          "data": {
            "text/plain": [
              "(16, 6)"
            ]
          },
          "metadata": {},
          "execution_count": 31
        }
      ],
      "source": [
        "batch_y_train.shape"
      ]
    },
    {
      "cell_type": "code",
      "execution_count": 32,
      "metadata": {
        "id": "Z0xMFXnCfXND"
      },
      "outputs": [],
      "source": [
        "train = training_dataset.take(int(len(training_dataset)*.7))\n",
        "val = training_dataset.skip(int(len(training_dataset)*.7)).take(int(len(training_dataset)*.3))\n",
        "test = testing_dataset.take(int(len(testing_dataset)))"
      ]
    },
    {
      "cell_type": "code",
      "execution_count": 33,
      "metadata": {
        "colab": {
          "base_uri": "https://localhost:8080/"
        },
        "id": "jELzqWBdhp3i",
        "outputId": "467ab90e-dffb-49ba-daff-c7cf4069b79c"
      },
      "outputs": [
        {
          "output_type": "execute_result",
          "data": {
            "text/plain": [
              "6981"
            ]
          },
          "metadata": {},
          "execution_count": 33
        }
      ],
      "source": [
        "len(train)"
      ]
    },
    {
      "cell_type": "code",
      "execution_count": 34,
      "metadata": {
        "id": "vth3P621hwyY"
      },
      "outputs": [],
      "source": [
        "train_generator = train.as_numpy_iterator()"
      ]
    },
    {
      "cell_type": "code",
      "execution_count": 35,
      "metadata": {
        "colab": {
          "base_uri": "https://localhost:8080/"
        },
        "id": "3xP65Is_h7Ms",
        "outputId": "c1d4cc6a-b238-4476-a720-c240b1c240d8"
      },
      "outputs": [
        {
          "output_type": "execute_result",
          "data": {
            "text/plain": [
              "(array([[  2, 228,   8, ...,   0,   0,   0],\n",
              "        [ 56, 181,  23, ...,   0,   0,   0],\n",
              "        [ 98,  98,  14, ...,   0,   0,   0],\n",
              "        ...,\n",
              "        [651,   9,  89, ...,   0,   0,   0],\n",
              "        [ 69, 689,  71, ...,   0,   0,   0],\n",
              "        [ 41,   4, 100, ...,   0,   0,   0]]),\n",
              " array([[0, 0, 0, 0, 0, 0],\n",
              "        [0, 0, 0, 0, 0, 0],\n",
              "        [0, 0, 0, 0, 0, 0],\n",
              "        [0, 0, 0, 0, 0, 0],\n",
              "        [0, 0, 0, 0, 0, 0],\n",
              "        [0, 0, 0, 0, 0, 0],\n",
              "        [0, 0, 0, 0, 0, 0],\n",
              "        [0, 0, 0, 0, 0, 0],\n",
              "        [1, 0, 0, 0, 1, 0],\n",
              "        [0, 0, 0, 0, 0, 0],\n",
              "        [0, 0, 0, 0, 0, 0],\n",
              "        [0, 0, 0, 0, 0, 0],\n",
              "        [0, 0, 0, 0, 0, 0],\n",
              "        [0, 0, 0, 0, 0, 0],\n",
              "        [0, 0, 0, 0, 0, 0],\n",
              "        [0, 0, 0, 0, 0, 0]]))"
            ]
          },
          "metadata": {},
          "execution_count": 35
        }
      ],
      "source": [
        "train_generator.next()"
      ]
    },
    {
      "cell_type": "markdown",
      "metadata": {
        "id": "Du4IAOiPiXWx"
      },
      "source": [
        "###Deep Neural Network"
      ]
    },
    {
      "cell_type": "code",
      "execution_count": 36,
      "metadata": {
        "id": "DeN3tWCMiWGE"
      },
      "outputs": [],
      "source": [
        "from tensorflow.keras.models import Sequential\n",
        "from tensorflow.keras.layers import LSTM, Dropout, Bidirectional, Dense, Embedding"
      ]
    },
    {
      "cell_type": "code",
      "execution_count": 37,
      "metadata": {
        "id": "dqiUn-15my_2"
      },
      "outputs": [],
      "source": [
        "from keras.api._v2.keras import activations\n",
        "model = Sequential()\n",
        "#creating embedding layer\n",
        "model.add(Embedding(MAX_WORDS+1, 32))\n",
        "#creating lstm layer\n",
        "model.add(Bidirectional(LSTM(32, activation= 'tanh')))\n",
        "#feature extractor dense layers\n",
        "model.add(Dense(128, activation= 'relu'))\n",
        "model.add(Dense(256, activation= 'relu'))\n",
        "model.add(Dense(128, activation= 'relu'))\n",
        "#final layer\n",
        "model.add(Dense(6, activation= 'sigmoid')) #no. of layers"
      ]
    },
    {
      "cell_type": "code",
      "execution_count": 38,
      "metadata": {
        "id": "m2lTqHDHonpj"
      },
      "outputs": [],
      "source": [
        "model.compile(loss= 'BinaryCrossentropy', optimizer= 'Adam')"
      ]
    },
    {
      "cell_type": "code",
      "execution_count": 39,
      "metadata": {
        "colab": {
          "base_uri": "https://localhost:8080/"
        },
        "id": "hW3rRptOo8tH",
        "outputId": "166a07ff-7685-410f-f3dd-83d014537c4f"
      },
      "outputs": [
        {
          "output_type": "stream",
          "name": "stdout",
          "text": [
            "Model: \"sequential\"\n",
            "_________________________________________________________________\n",
            " Layer (type)                Output Shape              Param #   \n",
            "=================================================================\n",
            " embedding (Embedding)       (None, None, 32)          9600032   \n",
            "                                                                 \n",
            " bidirectional (Bidirectiona  (None, 64)               16640     \n",
            " l)                                                              \n",
            "                                                                 \n",
            " dense (Dense)               (None, 128)               8320      \n",
            "                                                                 \n",
            " dense_1 (Dense)             (None, 256)               33024     \n",
            "                                                                 \n",
            " dense_2 (Dense)             (None, 128)               32896     \n",
            "                                                                 \n",
            " dense_3 (Dense)             (None, 6)                 774       \n",
            "                                                                 \n",
            "=================================================================\n",
            "Total params: 9,691,686\n",
            "Trainable params: 9,691,686\n",
            "Non-trainable params: 0\n",
            "_________________________________________________________________\n"
          ]
        }
      ],
      "source": [
        "model.summary()"
      ]
    },
    {
      "cell_type": "code",
      "execution_count": 40,
      "metadata": {
        "id": "-kx8aXiPo91j"
      },
      "outputs": [],
      "source": [
        "# history = model.fit(train, epochs= 10, validation_data= val)"
      ]
    },
    {
      "cell_type": "code",
      "execution_count": 41,
      "metadata": {
        "id": "zQGCo4Iv3JVS"
      },
      "outputs": [],
      "source": [
        "model.save('/content/gdrive/MyDrive/Comment Toxicity/toxicity.h5')"
      ]
    },
    {
      "cell_type": "code",
      "execution_count": 42,
      "metadata": {
        "id": "tPkvy50O3MJs"
      },
      "outputs": [],
      "source": [
        "model = tf.keras.models.load_model('/content/gdrive/MyDrive/Comment Toxicity/toxicity.h5')"
      ]
    },
    {
      "cell_type": "code",
      "execution_count": 43,
      "metadata": {
        "id": "REZ71VDRNnAD"
      },
      "outputs": [],
      "source": [
        "# model.history"
      ]
    },
    {
      "cell_type": "code",
      "execution_count": 44,
      "metadata": {
        "id": "p47AgubVNdQM"
      },
      "outputs": [],
      "source": [
        "# from matplotlib import pyplot as plt"
      ]
    },
    {
      "cell_type": "code",
      "execution_count": 46,
      "metadata": {
        "id": "gVpg9dGVNtb3"
      },
      "outputs": [],
      "source": [
        "# plt.figure(figsize=(8,5))\n",
        "# pd.DataFrame(model.history).plot()\n",
        "# plt.show()"
      ]
    },
    {
      "cell_type": "code",
      "execution_count": 47,
      "metadata": {
        "id": "kpJKdUD3OAK_"
      },
      "outputs": [],
      "source": [
        "input_text = vectorizer('im coming for you')"
      ]
    },
    {
      "cell_type": "code",
      "execution_count": 48,
      "metadata": {
        "colab": {
          "base_uri": "https://localhost:8080/"
        },
        "id": "N7UCcCFFOrYv",
        "outputId": "3a882878-db50-4885-8a99-b12d9e4f9abf"
      },
      "outputs": [
        {
          "output_type": "execute_result",
          "data": {
            "text/plain": [
              "<tf.Tensor: shape=(2000,), dtype=int64, numpy=array([ 64, 909,  14, ...,   0,   0,   0])>"
            ]
          },
          "metadata": {},
          "execution_count": 48
        }
      ],
      "source": [
        "input_text"
      ]
    },
    {
      "cell_type": "code",
      "execution_count": 49,
      "metadata": {
        "id": "5DgWdrjROS8s"
      },
      "outputs": [],
      "source": [
        "batch = test.as_numpy_iterator().next()"
      ]
    },
    {
      "cell_type": "code",
      "execution_count": 50,
      "metadata": {
        "id": "2xlP8ou7QHlQ"
      },
      "outputs": [],
      "source": [
        "batch_X_test, batch_y_test = test.as_numpy_iterator().next()"
      ]
    },
    {
      "cell_type": "code",
      "execution_count": 51,
      "metadata": {
        "colab": {
          "base_uri": "https://localhost:8080/"
        },
        "id": "2l-ucXjfPP8h",
        "outputId": "c576c04c-dbcf-40d1-a8b8-e95b3d87d421"
      },
      "outputs": [
        {
          "output_type": "stream",
          "name": "stdout",
          "text": [
            "1/1 [==============================] - 3s 3s/step\n"
          ]
        },
        {
          "output_type": "execute_result",
          "data": {
            "text/plain": [
              "array([[1, 0, 1, 1, 0, 0],\n",
              "       [1, 1, 1, 1, 0, 0],\n",
              "       [1, 0, 1, 0, 0, 0],\n",
              "       [1, 0, 1, 1, 1, 0],\n",
              "       [1, 0, 1, 1, 0, 1],\n",
              "       [1, 0, 1, 0, 0, 0],\n",
              "       [1, 0, 1, 1, 0, 0],\n",
              "       [1, 0, 1, 1, 0, 0],\n",
              "       [1, 0, 1, 0, 0, 0],\n",
              "       [1, 0, 1, 1, 0, 0],\n",
              "       [1, 1, 1, 0, 1, 0],\n",
              "       [0, 0, 1, 1, 0, 0],\n",
              "       [1, 0, 1, 0, 0, 0],\n",
              "       [1, 0, 1, 0, 0, 0],\n",
              "       [1, 0, 1, 1, 0, 1],\n",
              "       [1, 0, 1, 1, 0, 0]])"
            ]
          },
          "metadata": {},
          "execution_count": 51
        }
      ],
      "source": [
        "(model.predict(batch_X_test) > 0.5).astype(int)"
      ]
    },
    {
      "cell_type": "code",
      "execution_count": 52,
      "metadata": {
        "colab": {
          "base_uri": "https://localhost:8080/"
        },
        "id": "BjR2v4MNQj20",
        "outputId": "66e03e91-b523-43b4-a40f-a0ad5d798b7e"
      },
      "outputs": [
        {
          "output_type": "execute_result",
          "data": {
            "text/plain": [
              "array([[ 0,  0,  0,  0,  0,  0],\n",
              "       [ 1,  0,  1,  0,  1,  0],\n",
              "       [ 0,  0,  0,  0,  0,  0],\n",
              "       [ 0,  0,  0,  0,  0,  0],\n",
              "       [ 0,  0,  0,  0,  0,  0],\n",
              "       [-1, -1, -1, -1, -1, -1],\n",
              "       [ 1,  0,  1,  0,  1,  1],\n",
              "       [-1, -1, -1, -1, -1, -1],\n",
              "       [ 0,  0,  0,  0,  0,  0],\n",
              "       [ 0,  0,  0,  0,  0,  0],\n",
              "       [-1, -1, -1, -1, -1, -1],\n",
              "       [-1, -1, -1, -1, -1, -1],\n",
              "       [-1, -1, -1, -1, -1, -1],\n",
              "       [ 0,  0,  0,  0,  0,  0],\n",
              "       [-1, -1, -1, -1, -1, -1],\n",
              "       [-1, -1, -1, -1, -1, -1]])"
            ]
          },
          "metadata": {},
          "execution_count": 52
        }
      ],
      "source": [
        "batch_y_test"
      ]
    },
    {
      "cell_type": "code",
      "execution_count": 53,
      "metadata": {
        "colab": {
          "base_uri": "https://localhost:8080/"
        },
        "id": "lNI9P04mOWc2",
        "outputId": "56c07711-c738-4611-e2e7-9572e0653ddd"
      },
      "outputs": [
        {
          "output_type": "stream",
          "name": "stdout",
          "text": [
            "1/1 [==============================] - 0s 66ms/step\n"
          ]
        }
      ],
      "source": [
        "res = model.predict(batch_X_test)"
      ]
    },
    {
      "cell_type": "code",
      "execution_count": 54,
      "metadata": {
        "colab": {
          "base_uri": "https://localhost:8080/"
        },
        "id": "48qalLG-SGlo",
        "outputId": "832b4f1b-721f-4c93-8a00-2f145908668b"
      },
      "outputs": [
        {
          "output_type": "execute_result",
          "data": {
            "text/plain": [
              "array([0.5002434 , 0.4996405 , 0.5008744 , 0.5000737 , 0.49948174,\n",
              "       0.499332  , 0.5006785 , 0.5004346 , 0.5011321 , 0.50031567,\n",
              "       0.4993246 , 0.4984723 , 0.50013447, 0.49952868, 0.50025487,\n",
              "       0.49995077, 0.49953765, 0.49925753, 0.5006459 , 0.4996972 ,\n",
              "       0.5009273 , 0.500103  , 0.5001442 , 0.4990796 , 0.5010213 ,\n",
              "       0.49901548, 0.50052553, 0.50024754, 0.49943998, 0.50002366,\n",
              "       0.5008767 , 0.4991673 , 0.50029993, 0.49981445, 0.4994576 ,\n",
              "       0.4993363 , 0.5000383 , 0.49931145, 0.5005913 , 0.50008565,\n",
              "       0.49979922, 0.499782  , 0.5009464 , 0.49971524, 0.5004633 ,\n",
              "       0.5008721 , 0.49936303, 0.499245  , 0.5007391 , 0.49919003,\n",
              "       0.5003551 , 0.49990955, 0.49966905, 0.4997692 , 0.5005605 ,\n",
              "       0.4998442 , 0.500713  , 0.5001282 , 0.49967608, 0.49916443,\n",
              "       0.50045973, 0.50035226, 0.50052184, 0.49966934, 0.50003535,\n",
              "       0.49871513, 0.4997512 , 0.49980608, 0.5007414 , 0.5006603 ,\n",
              "       0.49966192, 0.4986578 , 0.5001831 , 0.49987343, 0.50026023,\n",
              "       0.4998489 , 0.49943748, 0.49907604, 0.50039077, 0.4998333 ,\n",
              "       0.5002016 , 0.4994202 , 0.49949846, 0.49852154, 0.5009307 ,\n",
              "       0.49899992, 0.5002993 , 0.50132793, 0.49931815, 0.50006026,\n",
              "       0.50009024, 0.49976546, 0.50089914, 0.5008411 , 0.4997237 ,\n",
              "       0.49944818], dtype=float32)"
            ]
          },
          "metadata": {},
          "execution_count": 54
        }
      ],
      "source": [
        "res.flatten()"
      ]
    },
    {
      "cell_type": "code",
      "execution_count": 55,
      "metadata": {
        "id": "x4KvBNjoPJ30"
      },
      "outputs": [],
      "source": [
        "from tensorflow.keras.metrics import  Precision, Recall, CategoricalAccuracy"
      ]
    },
    {
      "cell_type": "code",
      "execution_count": 56,
      "metadata": {
        "id": "GUWdzbskRDf_"
      },
      "outputs": [],
      "source": [
        "pre = Precision()\n",
        "re = Recall()\n",
        "acc = CategoricalAccuracy()"
      ]
    },
    {
      "cell_type": "code",
      "execution_count": 57,
      "metadata": {
        "colab": {
          "base_uri": "https://localhost:8080/"
        },
        "id": "5gSywF9YVOHz",
        "outputId": "de57aa3e-e55d-4dfd-c89e-fff6c9744e18"
      },
      "outputs": [
        {
          "output_type": "execute_result",
          "data": {
            "text/plain": [
              "(array([[   25,   599,     3, ...,     0,     0,     0],\n",
              "        [  412,     3, 12683, ...,     0,     0,     0],\n",
              "        [   22,   800,   287, ...,     0,     0,     0],\n",
              "        ...,\n",
              "        [   38,     7,    56, ...,     0,     0,     0],\n",
              "        [25656,   384, 26428, ...,     0,     0,     0],\n",
              "        [  104,   124,   409, ...,     0,     0,     0]]),\n",
              " array([[-1, -1, -1, -1, -1, -1],\n",
              "        [-1, -1, -1, -1, -1, -1],\n",
              "        [-1, -1, -1, -1, -1, -1],\n",
              "        [ 0,  0,  0,  0,  0,  0],\n",
              "        [ 0,  0,  0,  0,  0,  0],\n",
              "        [ 0,  0,  0,  0,  0,  0],\n",
              "        [-1, -1, -1, -1, -1, -1],\n",
              "        [ 1,  0,  1,  0,  1,  0],\n",
              "        [-1, -1, -1, -1, -1, -1],\n",
              "        [-1, -1, -1, -1, -1, -1],\n",
              "        [ 0,  0,  0,  0,  0,  0],\n",
              "        [-1, -1, -1, -1, -1, -1],\n",
              "        [-1, -1, -1, -1, -1, -1],\n",
              "        [-1, -1, -1, -1, -1, -1],\n",
              "        [ 1,  0,  1,  0,  1,  0],\n",
              "        [-1, -1, -1, -1, -1, -1]]))"
            ]
          },
          "metadata": {},
          "execution_count": 57
        }
      ],
      "source": [
        "test.as_numpy_iterator().next()"
      ]
    },
    {
      "cell_type": "code",
      "execution_count": null,
      "metadata": {
        "id": "DnbqdFJ1RQSR"
      },
      "outputs": [],
      "source": [
        "for batch in test.as_numpy_iterator():\n",
        "    # Unpack the batch\n",
        "    X_true, y_true = batch\n",
        "    # Make a prediction\n",
        "    yhat = model.predict(X_true)\n",
        "\n",
        "    # Flatten the predictions\n",
        "    y_true = y_true.flatten()\n",
        "    yhat = yhat.flatten()\n",
        "\n",
        "    pre.update_state(y_true, yhat)\n",
        "    re.update_state(y_true, yhat)\n",
        "    acc.update_state(y_true, yhat)"
      ]
    },
    {
      "cell_type": "code",
      "execution_count": 59,
      "metadata": {
        "colab": {
          "base_uri": "https://localhost:8080/"
        },
        "id": "M9e4Nxf6SVrQ",
        "outputId": "8758ef77-d436-4674-bd5a-8a21320afb46"
      },
      "outputs": [
        {
          "output_type": "stream",
          "name": "stdout",
          "text": [
            "Precision: 0.6022120118141174, Recall:0.5082184672355652, Accuracy:0.01128172967582941\n"
          ]
        }
      ],
      "source": [
        "print(f'Precision: {pre.result().numpy()}, Recall:{re.result().numpy()}, Accuracy:{acc.result().numpy()}')"
      ]
    },
    {
      "cell_type": "code",
      "execution_count": null,
      "metadata": {
        "collapsed": true,
        "id": "FXxRg5jWk5BV"
      },
      "outputs": [],
      "source": [
        "!pip install gradio jinja2"
      ]
    },
    {
      "cell_type": "code",
      "execution_count": 61,
      "metadata": {
        "id": "VG0MA9kt3Fas"
      },
      "outputs": [],
      "source": [
        "import tensorflow as tf\n",
        "import gradio as gr"
      ]
    },
    {
      "cell_type": "code",
      "execution_count": 62,
      "metadata": {
        "id": "eXWrAe1n3Rtp"
      },
      "outputs": [],
      "source": [
        "input_str = vectorizer('hey i freaken hate you!')"
      ]
    },
    {
      "cell_type": "code",
      "execution_count": 63,
      "metadata": {
        "id": "33XYyGSf8nOg",
        "colab": {
          "base_uri": "https://localhost:8080/"
        },
        "outputId": "f4507aeb-674b-45af-c7a8-b0082da901da"
      },
      "outputs": [
        {
          "output_type": "stream",
          "name": "stdout",
          "text": [
            "1/1 [==============================] - 0s 81ms/step\n"
          ]
        }
      ],
      "source": [
        "res = model.predict(np.expand_dims(input_str,0))"
      ]
    },
    {
      "cell_type": "code",
      "execution_count": 67,
      "metadata": {
        "id": "dO2ON8yQ8pTb"
      },
      "outputs": [],
      "source": [
        "def score_comment(comment):\n",
        "    vectorized_comment = vectorizer([comment])\n",
        "    results = model.predict(vectorized_comment)\n",
        "\n",
        "    text = ''\n",
        "    for idx, col in enumerate(df_train.columns[2:]):\n",
        "        text += '{}: {}\\n'.format(col, results[0][idx]>0.5)\n",
        "\n",
        "    return text"
      ]
    },
    {
      "cell_type": "code",
      "execution_count": 69,
      "metadata": {
        "id": "NiMGYbcS8wxV"
      },
      "outputs": [],
      "source": [
        "interface = gr.Interface(fn=score_comment,\n",
        "                         inputs=gr.components.Textbox(lines=2, placeholder='Comment to score'),\n",
        "                        outputs='text')"
      ]
    },
    {
      "cell_type": "code",
      "execution_count": 70,
      "metadata": {
        "id": "03kbuX5G8ybo",
        "colab": {
          "base_uri": "https://localhost:8080/",
          "height": 612
        },
        "outputId": "bce80d67-aa93-4283-ccb4-5a735cf0a9e2"
      },
      "outputs": [
        {
          "output_type": "stream",
          "name": "stdout",
          "text": [
            "Colab notebook detected. To show errors in colab notebook, set debug=True in launch()\n",
            "Running on public URL: https://95a2736fa7306fa8bb.gradio.live\n",
            "\n",
            "This share link expires in 72 hours. For free permanent hosting and GPU upgrades, run `gradio deploy` from Terminal to deploy to Spaces (https://huggingface.co/spaces)\n"
          ]
        },
        {
          "output_type": "display_data",
          "data": {
            "text/plain": [
              "<IPython.core.display.HTML object>"
            ],
            "text/html": [
              "<div><iframe src=\"https://95a2736fa7306fa8bb.gradio.live\" width=\"100%\" height=\"500\" allow=\"autoplay; camera; microphone; clipboard-read; clipboard-write;\" frameborder=\"0\" allowfullscreen></iframe></div>"
            ]
          },
          "metadata": {}
        },
        {
          "output_type": "execute_result",
          "data": {
            "text/plain": []
          },
          "metadata": {},
          "execution_count": 70
        }
      ],
      "source": [
        "interface.launch(share=True)"
      ]
    },
    {
      "cell_type": "code",
      "source": [],
      "metadata": {
        "id": "4djOhG8ymjGh"
      },
      "execution_count": null,
      "outputs": []
    }
  ],
  "metadata": {
    "accelerator": "GPU",
    "colab": {
      "provenance": [],
      "authorship_tag": "ABX9TyNsNpOGZS5PDr0gAG7RJfDA",
      "include_colab_link": true
    },
    "kernelspec": {
      "display_name": "Python 3",
      "name": "python3"
    },
    "language_info": {
      "name": "python"
    }
  },
  "nbformat": 4,
  "nbformat_minor": 0
}